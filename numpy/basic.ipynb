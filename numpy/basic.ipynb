{
 "cells": [
  {
   "cell_type": "markdown",
   "id": "e2dbdeea",
   "metadata": {},
   "source": [
    "numpy "
   ]
  },
  {
   "cell_type": "code",
   "execution_count": null,
   "id": "42cd6c15",
   "metadata": {},
   "outputs": [],
   "source": [
    "# !pip install numpy \n",
    "# pip install numpy\n",
    "# % pip install numpy\n"
   ]
  },
  {
   "cell_type": "code",
   "execution_count": null,
   "id": "c36ba7b6",
   "metadata": {},
   "outputs": [],
   "source": [
    "import numpy as np ## import is keyword ,  as is alias , np is alias\n",
    "print(np.__version__)"
   ]
  },
  {
   "cell_type": "code",
   "execution_count": null,
   "id": "e01daf5e",
   "metadata": {},
   "outputs": [],
   "source": [
    "lst =list(range(1,25))"
   ]
  },
  {
   "cell_type": "code",
   "execution_count": null,
   "id": "20ec8abc",
   "metadata": {},
   "outputs": [],
   "source": [
    "type(lst)"
   ]
  },
  {
   "cell_type": "code",
   "execution_count": null,
   "id": "1bb9b1fc",
   "metadata": {},
   "outputs": [],
   "source": [
    "# array and list \n",
    "\n",
    "# array is homogenous \n",
    "# list is heterogenous\n",
    "\n",
    "# list convert into array \n",
    "arr =np.array(lst)"
   ]
  },
  {
   "cell_type": "code",
   "execution_count": null,
   "id": "bba585d6",
   "metadata": {},
   "outputs": [],
   "source": [
    "type(arr) "
   ]
  },
  {
   "cell_type": "code",
   "execution_count": null,
   "id": "f32377be",
   "metadata": {},
   "outputs": [],
   "source": [
    "arr =np.array([1,2,4,5,6,7,7,7,77,7,8,8,9,3])\n",
    "arr "
   ]
  },
  {
   "cell_type": "code",
   "execution_count": null,
   "id": "6b13e54e",
   "metadata": {},
   "outputs": [],
   "source": [
    "arr =np.arange(1,25)"
   ]
  },
  {
   "cell_type": "code",
   "execution_count": null,
   "id": "6171f8c2",
   "metadata": {},
   "outputs": [],
   "source": [
    "arr "
   ]
  },
  {
   "cell_type": "code",
   "execution_count": null,
   "id": "e4eebde4",
   "metadata": {},
   "outputs": [],
   "source": [
    "arr =np.zeros(10)"
   ]
  },
  {
   "cell_type": "code",
   "execution_count": null,
   "id": "72b3295e",
   "metadata": {},
   "outputs": [],
   "source": [
    "arr"
   ]
  },
  {
   "cell_type": "code",
   "execution_count": null,
   "id": "d878e694",
   "metadata": {},
   "outputs": [],
   "source": [
    "arr =np.zeros((5,10)) ## 5 row  10 coloum \n",
    "arr "
   ]
  },
  {
   "cell_type": "code",
   "execution_count": null,
   "id": "76dd01a9",
   "metadata": {},
   "outputs": [],
   "source": [
    "np.ones((10,10))"
   ]
  },
  {
   "cell_type": "code",
   "execution_count": null,
   "id": "4f6d8258",
   "metadata": {},
   "outputs": [],
   "source": [
    "arr =np.linspace(1, 10, 5 )"
   ]
  },
  {
   "cell_type": "code",
   "execution_count": null,
   "id": "cb806efe",
   "metadata": {},
   "outputs": [],
   "source": [
    "arr "
   ]
  },
  {
   "cell_type": "code",
   "execution_count": null,
   "id": "c66dc3f6",
   "metadata": {},
   "outputs": [],
   "source": [
    "arr =np.arange(0,30)"
   ]
  },
  {
   "cell_type": "code",
   "execution_count": null,
   "id": "f1072fa6",
   "metadata": {},
   "outputs": [],
   "source": [
    "arr.reshape(10,3) # 3 coloum or 10 row "
   ]
  },
  {
   "cell_type": "code",
   "execution_count": null,
   "id": "f73f0343",
   "metadata": {},
   "outputs": [],
   "source": [
    "arr =np.random.randint(1,5,9)\n",
    "arr "
   ]
  },
  {
   "cell_type": "code",
   "execution_count": null,
   "id": "5127d7ce",
   "metadata": {},
   "outputs": [],
   "source": [
    "arr =np.random.randint(1,5,(5,2))"
   ]
  },
  {
   "cell_type": "code",
   "execution_count": null,
   "id": "6394bec1",
   "metadata": {},
   "outputs": [],
   "source": [
    "arr "
   ]
  },
  {
   "cell_type": "code",
   "execution_count": null,
   "id": "3448efb6",
   "metadata": {},
   "outputs": [],
   "source": [
    "arr =np.random.random(10)"
   ]
  },
  {
   "cell_type": "code",
   "execution_count": null,
   "id": "a3680d83",
   "metadata": {},
   "outputs": [],
   "source": [
    "arr "
   ]
  },
  {
   "cell_type": "code",
   "execution_count": null,
   "id": "71f36769",
   "metadata": {},
   "outputs": [],
   "source": [
    "np.random.random((5,10))"
   ]
  },
  {
   "cell_type": "markdown",
   "id": "960e3b60",
   "metadata": {},
   "source": [
    "#### Array Attribute "
   ]
  },
  {
   "cell_type": "code",
   "execution_count": null,
   "id": "53ac9238",
   "metadata": {},
   "outputs": [],
   "source": [
    "arr =np.arange(60).reshape(12,5)  # 12 row and 5 coloum \n",
    "arr  "
   ]
  },
  {
   "cell_type": "code",
   "execution_count": null,
   "id": "a53b084e",
   "metadata": {},
   "outputs": [],
   "source": [
    "print(\"array shape:-\",arr.shape )\n",
    "print(\"array size:-\",arr.size)\n",
    "print(\"array datatype:- \",arr.dtype)\n",
    "print(\"array ndim:- \",arr.ndim)"
   ]
  },
  {
   "cell_type": "code",
   "execution_count": null,
   "id": "55a22fda",
   "metadata": {},
   "outputs": [],
   "source": [
    "# 2d arrray convert into  1d\n",
    "arr =arr.flatten()\n",
    "print(\"array shape:-\",arr.shape )\n",
    "print(\"array size:-\",arr.size)\n",
    "print(\"array datatype:- \",arr.dtype)\n",
    "print(\"array ndim:- \",arr.ndim)"
   ]
  },
  {
   "cell_type": "code",
   "execution_count": null,
   "id": "11b2d5fb",
   "metadata": {},
   "outputs": [],
   "source": [
    "lst =[[1,2,3],[4,5,6]]"
   ]
  },
  {
   "cell_type": "code",
   "execution_count": null,
   "id": "adf8fcab",
   "metadata": {},
   "outputs": [],
   "source": [
    "arr=np.array(lst )\n",
    "arr "
   ]
  },
  {
   "cell_type": "code",
   "execution_count": null,
   "id": "8a193d5d",
   "metadata": {},
   "outputs": [],
   "source": [
    "arr.shape "
   ]
  },
  {
   "cell_type": "code",
   "execution_count": null,
   "id": "5a4202e9",
   "metadata": {},
   "outputs": [],
   "source": [
    "arr.T"
   ]
  },
  {
   "cell_type": "markdown",
   "id": "ab5364ed",
   "metadata": {},
   "source": [
    "         Accessing elements from array 1D and 2D array\n",
    "         for 1D array \n",
    "         [row start:row end : row step]\n",
    "\n",
    "         For 2D array \n",
    "         [row start:row end:row step]\n",
    "\n"
   ]
  },
  {
   "cell_type": "code",
   "execution_count": null,
   "id": "e3f511c7",
   "metadata": {},
   "outputs": [],
   "source": [
    "arr=np.arange(60)\n",
    "arr[0:25:2]"
   ]
  },
  {
   "cell_type": "code",
   "execution_count": null,
   "id": "362c833e",
   "metadata": {},
   "outputs": [],
   "source": [
    "arr =arr.reshape(12,5)\n",
    "arr "
   ]
  },
  {
   "cell_type": "code",
   "execution_count": null,
   "id": "75e7b296",
   "metadata": {},
   "outputs": [],
   "source": [
    "arr[1]"
   ]
  },
  {
   "cell_type": "code",
   "execution_count": null,
   "id": "b2a814c7",
   "metadata": {},
   "outputs": [],
   "source": [
    "arr[1,1]"
   ]
  },
  {
   "cell_type": "code",
   "execution_count": null,
   "id": "7036eb1c",
   "metadata": {},
   "outputs": [],
   "source": [
    "arr"
   ]
  },
  {
   "cell_type": "code",
   "execution_count": null,
   "id": "ac1f3f8f",
   "metadata": {},
   "outputs": [],
   "source": [
    "arr[0:5,1:2]  # 0:5 row and 1:2 coloum "
   ]
  },
  {
   "cell_type": "code",
   "execution_count": null,
   "id": "f0e3cd74",
   "metadata": {},
   "outputs": [],
   "source": [
    "arr"
   ]
  },
  {
   "cell_type": "code",
   "execution_count": null,
   "id": "c937ce27",
   "metadata": {},
   "outputs": [],
   "source": [
    "arr[1,3:]"
   ]
  },
  {
   "cell_type": "code",
   "execution_count": null,
   "id": "f1236f4c",
   "metadata": {},
   "outputs": [],
   "source": [
    "arr[7:8,4 ]=100"
   ]
  },
  {
   "cell_type": "code",
   "execution_count": null,
   "id": "41d41b6e",
   "metadata": {},
   "outputs": [],
   "source": [
    "arr "
   ]
  },
  {
   "cell_type": "code",
   "execution_count": null,
   "id": "dba4f80a",
   "metadata": {},
   "outputs": [],
   "source": [
    "## last element \n",
    "arr[11:12,4]"
   ]
  },
  {
   "cell_type": "code",
   "execution_count": null,
   "id": "2d0e52c6",
   "metadata": {},
   "outputs": [],
   "source": [
    "arr[11,4]"
   ]
  },
  {
   "cell_type": "code",
   "execution_count": null,
   "id": "70587852",
   "metadata": {},
   "outputs": [],
   "source": [
    "arr[11,4:5]"
   ]
  },
  {
   "cell_type": "code",
   "execution_count": null,
   "id": "45d5e61c",
   "metadata": {},
   "outputs": [],
   "source": [
    "arr[11][-1]"
   ]
  },
  {
   "cell_type": "code",
   "execution_count": null,
   "id": "761dbdda",
   "metadata": {},
   "outputs": [],
   "source": [
    "arr[-1][-1]"
   ]
  },
  {
   "cell_type": "code",
   "execution_count": null,
   "id": "9d545b91",
   "metadata": {},
   "outputs": [],
   "source": [
    "arr[11,-1]"
   ]
  },
  {
   "cell_type": "code",
   "execution_count": null,
   "id": "dffb0d95",
   "metadata": {},
   "outputs": [],
   "source": [
    "arr[:,4][11]"
   ]
  },
  {
   "cell_type": "code",
   "execution_count": null,
   "id": "52b7ad24",
   "metadata": {},
   "outputs": [],
   "source": [
    "arr[:,4][-1]"
   ]
  },
  {
   "cell_type": "code",
   "execution_count": null,
   "id": "99ba752c",
   "metadata": {},
   "outputs": [],
   "source": [
    "#3d array \n",
    "arr =np.array(np.arange(225).reshape(5,15,3))"
   ]
  },
  {
   "cell_type": "code",
   "execution_count": null,
   "id": "a02948a6",
   "metadata": {},
   "outputs": [],
   "source": [
    "arr.ravel()"
   ]
  },
  {
   "cell_type": "code",
   "execution_count": null,
   "id": "9d85f630",
   "metadata": {},
   "outputs": [],
   "source": [
    "arr.shape\n",
    "# (5, 15, 3)\n",
    "# 5 tables  \n",
    "# 15 rows  \n",
    "# 3 coloums  "
   ]
  },
  {
   "cell_type": "code",
   "execution_count": null,
   "id": "1a13fec3",
   "metadata": {},
   "outputs": [],
   "source": [
    "print(\"Dimension of array :-\",arr.ndim)"
   ]
  },
  {
   "cell_type": "code",
   "execution_count": null,
   "id": "2d777cf5",
   "metadata": {},
   "outputs": [],
   "source": [
    "arr[0][2:]"
   ]
  },
  {
   "cell_type": "code",
   "execution_count": null,
   "id": "557b0d6d",
   "metadata": {},
   "outputs": [],
   "source": [
    "arr[:,0,:]"
   ]
  },
  {
   "cell_type": "code",
   "execution_count": null,
   "id": "f1713330",
   "metadata": {},
   "outputs": [],
   "source": [
    "arr[:,0,:1]"
   ]
  },
  {
   "cell_type": "code",
   "execution_count": null,
   "id": "d609080f",
   "metadata": {},
   "outputs": [],
   "source": [
    "arr[:,0:1,0:1]"
   ]
  },
  {
   "cell_type": "code",
   "execution_count": null,
   "id": "51deacda",
   "metadata": {},
   "outputs": [],
   "source": [
    "arr[2][3][1] =500"
   ]
  },
  {
   "cell_type": "code",
   "execution_count": null,
   "id": "53fcc4cc",
   "metadata": {},
   "outputs": [],
   "source": [
    "arr[2]"
   ]
  },
  {
   "cell_type": "code",
   "execution_count": null,
   "id": "2e755142",
   "metadata": {},
   "outputs": [],
   "source": [
    "arr = np.array([1,2,3,4,5,6,7,8,9,10])\n",
    "arr1 = np.array([1,2,3,4,5,6,7,8,9,10])\n",
    "arr2 = np.array([1,2,3,4,5,6,7,8,9,10])\n",
    "\n"
   ]
  },
  {
   "cell_type": "code",
   "execution_count": null,
   "id": "1a6840b4",
   "metadata": {},
   "outputs": [],
   "source": [
    "print(arr+2)\n",
    "print(arr*2)\n",
    "print(arr1/arr2)\n",
    "print(arr1*arr2)\n",
    "print(arr1+arr2)\n",
    "print(arr1-arr2)\n",
    "print(arr1**2)\n",
    "print(arr1**3)\n",
    "# arr.sort"
   ]
  },
  {
   "cell_type": "code",
   "execution_count": null,
   "id": "4f36590f",
   "metadata": {},
   "outputs": [],
   "source": []
  }
 ],
 "metadata": {
  "kernelspec": {
   "display_name": "Python 3",
   "language": "python",
   "name": "python3"
  },
  "language_info": {
   "codemirror_mode": {
    "name": "ipython",
    "version": 3
   },
   "file_extension": ".py",
   "mimetype": "text/x-python",
   "name": "python",
   "nbconvert_exporter": "python",
   "pygments_lexer": "ipython3",
   "version": "3.11.5"
  }
 },
 "nbformat": 4,
 "nbformat_minor": 5
}
