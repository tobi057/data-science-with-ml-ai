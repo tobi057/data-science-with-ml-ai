{
 "cells": [
  {
   "cell_type": "code",
   "execution_count": 1,
   "id": "0f5d53d8",
   "metadata": {},
   "outputs": [],
   "source": [
    "import os ## import os module os module is used to interact with the operating system"
   ]
  },
  {
   "cell_type": "code",
   "execution_count": 2,
   "id": "119922f5",
   "metadata": {},
   "outputs": [],
   "source": [
    "file =os.getcwd() # get current working directory"
   ]
  },
  {
   "cell_type": "code",
   "execution_count": 3,
   "id": "764a1e11",
   "metadata": {},
   "outputs": [
    {
     "name": "stdout",
     "output_type": "stream",
     "text": [
      "Current working directory: c:\\Users\\kumaw\\OneDrive\\Desktop\\2 june\\Os\n"
     ]
    }
   ],
   "source": [
    "print(\"Current working directory:\", file)"
   ]
  },
  {
   "cell_type": "code",
   "execution_count": 4,
   "id": "d4f0c7ee",
   "metadata": {},
   "outputs": [
    {
     "data": {
      "text/plain": [
       "['os.ipynb']"
      ]
     },
     "execution_count": 4,
     "metadata": {},
     "output_type": "execute_result"
    }
   ],
   "source": [
    "os.listdir() # list all the files and directories in the current directory"
   ]
  },
  {
   "cell_type": "code",
   "execution_count": 5,
   "id": "0c89eb60",
   "metadata": {},
   "outputs": [],
   "source": [
    "os.mkdir(\"Demo\") ## create a folder in the current directory"
   ]
  },
  {
   "cell_type": "code",
   "execution_count": 7,
   "id": "a1b6db84",
   "metadata": {},
   "outputs": [
    {
     "data": {
      "text/plain": [
       "['Demo', 'os.ipynb']"
      ]
     },
     "execution_count": 7,
     "metadata": {},
     "output_type": "execute_result"
    }
   ],
   "source": [
    "os.listdir()"
   ]
  },
  {
   "cell_type": "code",
   "execution_count": 8,
   "id": "54fc80e3",
   "metadata": {},
   "outputs": [],
   "source": [
    "os.rename(\"Demo\", \"Data science\") ## rename the folder"
   ]
  },
  {
   "cell_type": "code",
   "execution_count": 9,
   "id": "375bee34",
   "metadata": {},
   "outputs": [
    {
     "data": {
      "text/plain": [
       "['Data science', 'os.ipynb']"
      ]
     },
     "execution_count": 9,
     "metadata": {},
     "output_type": "execute_result"
    }
   ],
   "source": [
    "os.listdir()"
   ]
  },
  {
   "cell_type": "code",
   "execution_count": 10,
   "id": "b5a97962",
   "metadata": {},
   "outputs": [],
   "source": [
    "os.rmdir(\"Data science\") ## remove the folder"
   ]
  },
  {
   "cell_type": "code",
   "execution_count": 11,
   "id": "05e59792",
   "metadata": {},
   "outputs": [
    {
     "data": {
      "text/plain": [
       "['os.ipynb']"
      ]
     },
     "execution_count": 11,
     "metadata": {},
     "output_type": "execute_result"
    }
   ],
   "source": [
    "os.listdir()"
   ]
  },
  {
   "cell_type": "code",
   "execution_count": 12,
   "id": "bcc2024a",
   "metadata": {},
   "outputs": [],
   "source": [
    "# os.remove(\"filename\") ## remove the file"
   ]
  },
  {
   "cell_type": "code",
   "execution_count": 14,
   "id": "985e64df",
   "metadata": {},
   "outputs": [],
   "source": [
    "os.getcwd() ## print the current working directory\n",
    "path = 'c:\\\\Users\\\\kumaw\\\\OneDrive\\\\Desktop\\\\2 june\\\\Os'"
   ]
  },
  {
   "cell_type": "code",
   "execution_count": 15,
   "id": "9910fbdd",
   "metadata": {},
   "outputs": [],
   "source": [
    "path = os.environ.get(path) ## print the environment variables"
   ]
  },
  {
   "cell_type": "code",
   "execution_count": 16,
   "id": "a115d8a8",
   "metadata": {},
   "outputs": [
    {
     "name": "stdout",
     "output_type": "stream",
     "text": [
      "path exist None\n"
     ]
    }
   ],
   "source": [
    "print(\"path exist\",path)"
   ]
  },
  {
   "cell_type": "code",
   "execution_count": 18,
   "id": "5e87512e",
   "metadata": {},
   "outputs": [
    {
     "data": {
      "text/plain": [
       "['2 june',\n",
       " '45 Days Module - Data Science with Machinde Learning & AI.pdf',\n",
       " 'bike-',\n",
       " 'desktop.ini',\n",
       " 'Govind kumawat .pdf',\n",
       " 'Housefull-5A.2025.720p.HDTC.Hindi-LiNE.x264-HDHub4u.Do.mkv',\n",
       " 'TempleRun_GestureControl',\n",
       " 'Visual Studio Code.lnk']"
      ]
     },
     "execution_count": 18,
     "metadata": {},
     "output_type": "execute_result"
    }
   ],
   "source": [
    "os.listdir(r\"C:\\Users\\kumaw\\OneDrive\\Desktop\")"
   ]
  },
  {
   "cell_type": "code",
   "execution_count": 22,
   "id": "88b87417",
   "metadata": {},
   "outputs": [
    {
     "data": {
      "text/plain": [
       "False"
      ]
     },
     "execution_count": 22,
     "metadata": {},
     "output_type": "execute_result"
    }
   ],
   "source": [
    "os.path.isfile(r\"C:\\Users\\kumaw\\OneDrive\\Desktop\\2 june\\Os\\os.py\")"
   ]
  },
  {
   "cell_type": "code",
   "execution_count": 26,
   "id": "8af5b4af",
   "metadata": {},
   "outputs": [
    {
     "data": {
      "text/plain": [
       "False"
      ]
     },
     "execution_count": 26,
     "metadata": {},
     "output_type": "execute_result"
    }
   ],
   "source": [
    "os.path.isdir(r\"C:\\Users\\kumaw\\OneDrive\\hello\")"
   ]
  },
  {
   "cell_type": "code",
   "execution_count": 27,
   "id": "590b65b2",
   "metadata": {},
   "outputs": [],
   "source": [
    "path1 = r\"C:\\Users\\kumaw\"\n",
    "\n",
    "path2 =r\"OneDrive\\Desktop\\2 june\\Os\" \n",
    "complete_path=os.path.join(path1,path2)"
   ]
  },
  {
   "cell_type": "code",
   "execution_count": 30,
   "id": "54dee1c6",
   "metadata": {},
   "outputs": [
    {
     "data": {
      "text/plain": [
       "'C:\\\\Users\\\\kumaw\\\\OneDrive\\\\Desktop\\\\2 june\\\\Os'"
      ]
     },
     "execution_count": 30,
     "metadata": {},
     "output_type": "execute_result"
    }
   ],
   "source": [
    "complete_path"
   ]
  },
  {
   "cell_type": "code",
   "execution_count": 29,
   "id": "5d4266ff",
   "metadata": {},
   "outputs": [
    {
     "data": {
      "text/plain": [
       "['os.ipynb']"
      ]
     },
     "execution_count": 29,
     "metadata": {},
     "output_type": "execute_result"
    }
   ],
   "source": [
    "os.listdir(complete_path)"
   ]
  },
  {
   "cell_type": "code",
   "execution_count": 32,
   "id": "cb0ecf12",
   "metadata": {},
   "outputs": [],
   "source": [
    "file =r\"C:\\\\Users\\\\kumaw\\\\OneDrive\\\\Desktop\\\\2 june\\\\Os\\\\os.ipynb\""
   ]
  },
  {
   "cell_type": "code",
   "execution_count": 33,
   "id": "64ff8055",
   "metadata": {},
   "outputs": [
    {
     "name": "stdout",
     "output_type": "stream",
     "text": [
      "size of file (in bytes): 7357\n"
     ]
    }
   ],
   "source": [
    "size =os.path.getsize(file)\n",
    "print(\"size of file (in bytes):\",size)"
   ]
  },
  {
   "cell_type": "code",
   "execution_count": 46,
   "id": "d80c4187",
   "metadata": {},
   "outputs": [
    {
     "name": "stdout",
     "output_type": "stream",
     "text": [
      "before dir  C:\\Users\\kumaw\\OneDrive\\Desktop\\2 june\\Os\n",
      "after dir C:\\Users\\kumaw\\OneDrive\\Desktop\\2 june\n"
     ]
    }
   ],
   "source": [
    "print(\"before dir \", os.getcwd())\n",
    "os.chdir(r\"C:\\\\Users\\\\kumaw\\\\OneDrive\\\\Desktop\\\\2 june\")\n",
    "print(\"after dir\", os.getcwd())"
   ]
  },
  {
   "cell_type": "code",
   "execution_count": null,
   "id": "75091e80",
   "metadata": {},
   "outputs": [
    {
     "name": "stdout",
     "output_type": "stream",
     "text": [
      "after dir C:\\Users\\kumaw\\OneDrive\\Desktop\\2 june\\Os\n"
     ]
    }
   ],
   "source": [
    "\n"
   ]
  },
  {
   "cell_type": "code",
   "execution_count": 42,
   "id": "40dfd362",
   "metadata": {},
   "outputs": [
    {
     "name": "stdout",
     "output_type": "stream",
     "text": [
      "before dir  C:\\Users\n"
     ]
    }
   ],
   "source": [
    "print(\"before dir \", os.getcwd())"
   ]
  },
  {
   "cell_type": "code",
   "execution_count": null,
   "id": "8cb4b0cc",
   "metadata": {},
   "outputs": [
    {
     "name": "stdout",
     "output_type": "stream",
     "text": [
      "C:\\Users\\kumaw\n"
     ]
    },
    {
     "ename": "FileNotFoundError",
     "evalue": "[WinError 3] The system cannot find the path specified: 'c:\\\\Users\\\\mariy\\\\Desktop\\\\perveen\\\\intership\\\\basic.py'",
     "output_type": "error",
     "traceback": [
      "\u001b[1;31m---------------------------------------------------------------------------\u001b[0m",
      "\u001b[1;31mFileNotFoundError\u001b[0m                         Traceback (most recent call last)",
      "Cell \u001b[1;32mIn[37], line 2\u001b[0m\n\u001b[0;32m      1\u001b[0m \u001b[38;5;28mprint\u001b[39m(os\u001b[38;5;241m.\u001b[39mgetcwd())\n\u001b[1;32m----> 2\u001b[0m \u001b[43mos\u001b[49m\u001b[38;5;241;43m.\u001b[39;49m\u001b[43mchdir\u001b[49m\u001b[43m(\u001b[49m\u001b[38;5;124;43mr\u001b[39;49m\u001b[38;5;124;43m\"\u001b[39;49m\u001b[38;5;124;43mc:\u001b[39;49m\u001b[38;5;124;43m\\\u001b[39;49m\u001b[38;5;124;43mUsers\u001b[39;49m\u001b[38;5;124;43m\\\u001b[39;49m\u001b[38;5;124;43mmariy\u001b[39;49m\u001b[38;5;124;43m\\\u001b[39;49m\u001b[38;5;124;43mDesktop\u001b[39;49m\u001b[38;5;124;43m\\\u001b[39;49m\u001b[38;5;124;43mperveen\u001b[39;49m\u001b[38;5;124;43m\\\u001b[39;49m\u001b[38;5;124;43mintership\u001b[39;49m\u001b[38;5;124;43m\\\u001b[39;49m\u001b[38;5;124;43mbasic.py\u001b[39;49m\u001b[38;5;124;43m\"\u001b[39;49m\u001b[43m)\u001b[49m\n\u001b[0;32m      3\u001b[0m \u001b[38;5;28mprint\u001b[39m(os\u001b[38;5;241m.\u001b[39mgetcwd())\n",
      "\u001b[1;31mFileNotFoundError\u001b[0m: [WinError 3] The system cannot find the path specified: 'c:\\\\Users\\\\mariy\\\\Desktop\\\\perveen\\\\intership\\\\basic.py'"
     ]
    }
   ],
   "source": [
    "# print(os.getcwd())    # C:\\Users\\mariy\\Desktop\\perveen\\intership\\basic.py\n",
    "# os.chdir(r\"c:\\Users\\mariy\\Desktop\")\n",
    "# print(os.getcwd()) ## "
   ]
  },
  {
   "cell_type": "code",
   "execution_count": null,
   "id": "92f26dce",
   "metadata": {},
   "outputs": [],
   "source": []
  }
 ],
 "metadata": {
  "kernelspec": {
   "display_name": "Python 3",
   "language": "python",
   "name": "python3"
  },
  "language_info": {
   "codemirror_mode": {
    "name": "ipython",
    "version": 3
   },
   "file_extension": ".py",
   "mimetype": "text/x-python",
   "name": "python",
   "nbconvert_exporter": "python",
   "pygments_lexer": "ipython3",
   "version": "3.11.5"
  }
 },
 "nbformat": 4,
 "nbformat_minor": 5
}
