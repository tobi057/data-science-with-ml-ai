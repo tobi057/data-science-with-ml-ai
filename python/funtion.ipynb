{
 "cells": [
  {
   "cell_type": "markdown",
   "id": "66c6c5d0",
   "metadata": {},
   "source": [
    "### Function"
   ]
  },
  {
   "cell_type": "code",
   "execution_count": 1,
   "id": "86ce2e2c",
   "metadata": {},
   "outputs": [],
   "source": [
    "# def function_name(parameter):\n",
    "#     # code block\n",
    "#     return result"
   ]
  },
  {
   "cell_type": "code",
   "execution_count": 2,
   "id": "c785317d",
   "metadata": {},
   "outputs": [],
   "source": [
    "def greet():\n",
    "    print(\"hello , welcome to python \")\n",
    "\n",
    "\n",
    "    "
   ]
  },
  {
   "cell_type": "code",
   "execution_count": null,
   "id": "852de917",
   "metadata": {},
   "outputs": [
    {
     "name": "stdout",
     "output_type": "stream",
     "text": [
      "hello , welcome to python \n"
     ]
    }
   ],
   "source": [
    "greet()  ### calling function"
   ]
  },
  {
   "cell_type": "code",
   "execution_count": null,
   "id": "839cd5a5",
   "metadata": {},
   "outputs": [
    {
     "name": "stdout",
     "output_type": "stream",
     "text": [
      "30\n"
     ]
    }
   ],
   "source": [
    "def add(a , b):\n",
    "    result = a + b\n",
    "    print(result)\n",
    "add(10,20)\n",
    "\n"
   ]
  },
  {
   "cell_type": "code",
   "execution_count": 8,
   "id": "bd05ad66",
   "metadata": {},
   "outputs": [
    {
     "name": "stdout",
     "output_type": "stream",
     "text": [
      "30\n"
     ]
    }
   ],
   "source": [
    "# sum =add(a= 10,  b= 20)\n",
    "# print(sum)\n",
    "add(b= 20, a= 10)"
   ]
  },
  {
   "cell_type": "code",
   "execution_count": 9,
   "id": "30396ff4",
   "metadata": {},
   "outputs": [
    {
     "name": "stdout",
     "output_type": "stream",
     "text": [
      "hello  John\n"
     ]
    }
   ],
   "source": [
    "def greet(name = \"John\"):\n",
    "    print(\"hello \" , name)\n",
    "greet()"
   ]
  },
  {
   "cell_type": "code",
   "execution_count": 10,
   "id": "0f29ae49",
   "metadata": {},
   "outputs": [
    {
     "name": "stdout",
     "output_type": "stream",
     "text": [
      "hello  Smith\n"
     ]
    }
   ],
   "source": [
    "greet(\"Smith\")"
   ]
  },
  {
   "cell_type": "code",
   "execution_count": 11,
   "id": "6fd2f73a",
   "metadata": {},
   "outputs": [
    {
     "name": "stdout",
     "output_type": "stream",
     "text": [
      "(30, -10, 200, 0.5)\n",
      "<class 'tuple'>\n"
     ]
    }
   ],
   "source": [
    "def operation(a , b):\n",
    "    return a+b , a-b , a*b , a/b\n",
    "result = operation(10,20)\n",
    "print(result)\n",
    "print(type(result))"
   ]
  },
  {
   "cell_type": "code",
   "execution_count": null,
   "id": "4f620cda",
   "metadata": {},
   "outputs": [
    {
     "name": "stdout",
     "output_type": "stream",
     "text": [
      "30\n",
      "-10\n"
     ]
    }
   ],
   "source": [
    "def operation(a , b):\n",
    "    return a+b , a-b \n",
    "sub , add = operation(10,20)\n",
    "# print(result)\n",
    "# print(type(result))\n",
    "print(sub)\n"
   ]
  },
  {
   "cell_type": "code",
   "execution_count": 13,
   "id": "8ce31a8a",
   "metadata": {},
   "outputs": [
    {
     "data": {
      "text/plain": [
       "-10"
      ]
     },
     "execution_count": 13,
     "metadata": {},
     "output_type": "execute_result"
    }
   ],
   "source": [
    "add"
   ]
  },
  {
   "cell_type": "code",
   "execution_count": 14,
   "id": "5c8c0455",
   "metadata": {},
   "outputs": [
    {
     "name": "stdout",
     "output_type": "stream",
     "text": [
      "(2, 3, 4, 5, 5, 5, 5, 6)\n",
      "<class 'tuple'>\n"
     ]
    }
   ],
   "source": [
    "a = 2,3,4,5,5,5,5,6\n",
    "print(a)\n",
    "print(type(a))"
   ]
  },
  {
   "cell_type": "markdown",
   "id": "926c4476",
   "metadata": {},
   "source": [
    "#### Lambda Function "
   ]
  },
  {
   "cell_type": "code",
   "execution_count": 15,
   "id": "e4ec6b16",
   "metadata": {},
   "outputs": [],
   "source": [
    "# lambda aguments : expression"
   ]
  },
  {
   "cell_type": "code",
   "execution_count": 17,
   "id": "ae8d7d33",
   "metadata": {},
   "outputs": [],
   "source": [
    "add =lambda a , b : a+b"
   ]
  },
  {
   "cell_type": "code",
   "execution_count": 18,
   "id": "82bcbe1b",
   "metadata": {},
   "outputs": [
    {
     "name": "stdout",
     "output_type": "stream",
     "text": [
      "30\n"
     ]
    }
   ],
   "source": [
    "print(add(10,20))"
   ]
  },
  {
   "cell_type": "code",
   "execution_count": 19,
   "id": "5beb6b2d",
   "metadata": {},
   "outputs": [],
   "source": [
    "square=lambda x : x*x"
   ]
  },
  {
   "cell_type": "code",
   "execution_count": 21,
   "id": "56d73278",
   "metadata": {},
   "outputs": [
    {
     "data": {
      "text/plain": [
       "25"
      ]
     },
     "execution_count": 21,
     "metadata": {},
     "output_type": "execute_result"
    }
   ],
   "source": [
    "square(5)"
   ]
  },
  {
   "cell_type": "code",
   "execution_count": 22,
   "id": "052b710c",
   "metadata": {},
   "outputs": [],
   "source": [
    "is_even=lambda x :\"even\" if x %2 ==0 else \"odd\"\n"
   ]
  },
  {
   "cell_type": "code",
   "execution_count": 24,
   "id": "1d55ceab",
   "metadata": {},
   "outputs": [
    {
     "data": {
      "text/plain": [
       "'even'"
      ]
     },
     "execution_count": 24,
     "metadata": {},
     "output_type": "execute_result"
    }
   ],
   "source": [
    "is_even(4)"
   ]
  },
  {
   "cell_type": "code",
   "execution_count": null,
   "id": "8233f329",
   "metadata": {},
   "outputs": [],
   "source": []
  }
 ],
 "metadata": {
  "kernelspec": {
   "display_name": "Python 3",
   "language": "python",
   "name": "python3"
  },
  "language_info": {
   "codemirror_mode": {
    "name": "ipython",
    "version": 3
   },
   "file_extension": ".py",
   "mimetype": "text/x-python",
   "name": "python",
   "nbconvert_exporter": "python",
   "pygments_lexer": "ipython3",
   "version": "3.11.5"
  }
 },
 "nbformat": 4,
 "nbformat_minor": 5
}
