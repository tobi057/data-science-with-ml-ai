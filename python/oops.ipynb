{
 "cells": [
  {
   "cell_type": "code",
   "execution_count": null,
   "id": "36dad25b",
   "metadata": {},
   "outputs": [],
   "source": [
    "class Myclass: #### machine learning\n",
    "    y  = 10\n",
    "    x = 5"
   ]
  },
  {
   "cell_type": "code",
   "execution_count": null,
   "id": "01c90515",
   "metadata": {},
   "outputs": [],
   "source": [
    "# create object\n",
    "p1 =Myclass()   ## p1 is object and Myclass is class"
   ]
  },
  {
   "cell_type": "code",
   "execution_count": null,
   "id": "f526142c",
   "metadata": {},
   "outputs": [],
   "source": [
    "print(p1.x)\n",
    "print(p1.y)"
   ]
  },
  {
   "cell_type": "code",
   "execution_count": null,
   "id": "bf21eb4a",
   "metadata": {},
   "outputs": [],
   "source": [
    "# Inheritance\n",
    "# polymorphism\n",
    "# Abstraction\n",
    "# Encapsulation"
   ]
  },
  {
   "cell_type": "markdown",
   "id": "f3d906a2",
   "metadata": {},
   "source": [
    "### Inheritance"
   ]
  },
  {
   "cell_type": "code",
   "execution_count": null,
   "id": "b11bc6d1",
   "metadata": {},
   "outputs": [],
   "source": [
    "# single inheritance\n",
    "# multiple inheritance\n",
    "# multilevel inheritance\n",
    "# hybrid inheritance\n"
   ]
  },
  {
   "cell_type": "code",
   "execution_count": null,
   "id": "8bd17054",
   "metadata": {},
   "outputs": [],
   "source": [
    "# single inheritance\n",
    "\n",
    "class Parent:\n",
    "    father_name = \"Hemant\"\n",
    "    mother_name = \"Sunita\"\n",
    "\n",
    "class Child(Parent):\n",
    "    pass\n",
    "child_obj =Child()\n",
    "print(child_obj.father_name)\n",
    "print(child_obj.mother_name)"
   ]
  },
  {
   "cell_type": "code",
   "execution_count": null,
   "id": "46e5b9bf",
   "metadata": {},
   "outputs": [],
   "source": [
    "class Parent:\n",
    "    father_name = \"Hemant\"\n",
    "    mother_name = \"Sunita\"\n",
    "\n",
    "class Child(Parent):\n",
    "    child_name = \"Rahul\"\n",
    "    age = 22\n",
    "child_obj =Child()\n",
    "print(child_obj.father_name)\n",
    "print(child_obj.mother_name)\n",
    "print(child_obj.child_name)\n",
    "print(child_obj.age)"
   ]
  },
  {
   "cell_type": "code",
   "execution_count": null,
   "id": "f575611f",
   "metadata": {},
   "outputs": [],
   "source": [
    "# multilevel inheritance\n",
    "class Grandparent:\n",
    "    pass \n",
    "class Parent:\n",
    "    pass\n",
    "class Child:\n",
    "    pass \n",
    "\n",
    "\n"
   ]
  },
  {
   "cell_type": "code",
   "execution_count": null,
   "id": "ac1b39f7",
   "metadata": {},
   "outputs": [],
   "source": [
    "class Grandparent:\n",
    "    grand_father_name = \"Hemant\"\n",
    "    grand_mother_name = \"Sunita\"\n",
    "    age = 50\n",
    "\n",
    "class Parent(Grandparent):\n",
    "    father_name = \"Ramlal\"\n",
    "    mother_name = \"Rani\"\n",
    "    age = 40\n",
    "\n",
    "\n",
    "class Child(Parent):\n",
    "    child_name = \"Rahul\"\n",
    "    age = 22\n",
    "\n",
    "child_obj = Child()\n",
    "\n",
    "\n"
   ]
  },
  {
   "cell_type": "code",
   "execution_count": null,
   "id": "5d91c5c1",
   "metadata": {},
   "outputs": [],
   "source": [
    "print(f\"grand father name {child_obj.grand_father_name}\")\n",
    "print(f\" grand mother name {child_obj.grand_mother_name}\")\n",
    "print(child_obj.father_name)\n",
    "print(child_obj.mother_name)\n",
    "print(child_obj.child_name)\n",
    "print(child_obj.age)"
   ]
  },
  {
   "cell_type": "code",
   "execution_count": null,
   "id": "0016720f",
   "metadata": {},
   "outputs": [],
   "source": [
    "# multiple inheritance\n",
    "class A:\n",
    "    pass \n",
    "class B:\n",
    "    pass\n",
    "\n",
    "class C(A,B):\n",
    "    pass"
   ]
  },
  {
   "cell_type": "code",
   "execution_count": null,
   "id": "9fddd57b",
   "metadata": {},
   "outputs": [],
   "source": [
    "class Parent:\n",
    "    father_name = \"Hemant\"\n",
    "    mother_name = \"Sunita\" \n",
    "class Uncle:\n",
    "    uncle_name = \"Ramlal\"\n",
    "    aunt_name = \"Rani\"\n",
    "    uncle_property = \"house\"\n",
    "\n",
    "class Child(Parent,Uncle):\n",
    "    pass\n",
    "\n",
    "child_obj=Child()\n",
    "child_obj.father_name\n",
    "child_obj.uncle_name\n",
    "child_obj.aunt_name\n",
    "child_obj.uncle_property"
   ]
  },
  {
   "cell_type": "code",
   "execution_count": null,
   "id": "0e7d6816",
   "metadata": {},
   "outputs": [],
   "source": [
    "class Clc:\n",
    "    def  add(self,a,b):\n",
    "        return a+b\n",
    "    \n",
    "    def multiply(self,a,b):\n",
    "        return a*b\n",
    "    \n",
    "\n",
    "obj=Clc()\n",
    "print(\"Addition:-\",obj.add(10, 20))"
   ]
  },
  {
   "cell_type": "code",
   "execution_count": null,
   "id": "72612a35",
   "metadata": {},
   "outputs": [],
   "source": [
    "print(\"Multiplication:-\",obj.multiply(10, 20))"
   ]
  },
  {
   "cell_type": "code",
   "execution_count": null,
   "id": "df0307fa",
   "metadata": {},
   "outputs": [],
   "source": [
    "class Student:\n",
    "    a = 10 ###  class variable\n",
    "    def set_data(self,name,age):\n",
    "        self.name=name ### instance variable\n",
    "        self.age=age ### instance variable\n",
    "\n",
    "\n",
    "    def display(self):\n",
    "        print(f\"student name:-{self.name}, and student Age:-{self.age}\")\n",
    "        # self.age\n",
    "\n",
    "\n",
    "obj =Student()\n",
    "\n",
    "obj.set_data(\"Ritik\", 22)\n",
    "\n",
    "\n",
    "\n",
    "\n",
    "\n"
   ]
  },
  {
   "cell_type": "code",
   "execution_count": null,
   "id": "049c9ff7",
   "metadata": {},
   "outputs": [],
   "source": [
    "obj.display()"
   ]
  },
  {
   "cell_type": "code",
   "execution_count": null,
   "id": "83c7833c",
   "metadata": {},
   "outputs": [],
   "source": [
    "### Circle Area\n",
    "\n",
    "# class Circle:\n",
    "    # method  set_redius\n",
    "    # method  get_area\n",
    "\n",
    "\n",
    "\n"
   ]
  },
  {
   "cell_type": "code",
   "execution_count": null,
   "id": "70d816de",
   "metadata": {},
   "outputs": [],
   "source": [
    "class Classname:\n",
    "    def __init__(self, param1, param2):\n",
    "        pass"
   ]
  },
  {
   "cell_type": "code",
   "execution_count": null,
   "id": "77bfd043",
   "metadata": {},
   "outputs": [],
   "source": [
    "class Student:\n",
    "    def __init__(self, name , roll):\n",
    "        pass\n",
    "    def display(self):\n",
    "        pass\n",
    "\n",
    "s1=Student(\"name\",45)\n",
    "s1.display()"
   ]
  },
  {
   "cell_type": "code",
   "execution_count": null,
   "id": "472c30a5",
   "metadata": {},
   "outputs": [],
   "source": [
    "class Student:\n",
    "    def __init__(self, name , roll):\n",
    "        self.name=name\n",
    "        self.roll=roll\n",
    "    def display(self):\n",
    "        print(f\"student name:-{self.name}, and student roll:-{self.roll}\")\n",
    "\n",
    "s1=Student(name= \"Ritik\", roll=22)\n",
    "s1.display()"
   ]
  },
  {
   "cell_type": "code",
   "execution_count": null,
   "id": "3696d0dd",
   "metadata": {},
   "outputs": [],
   "source": [
    "class Demo:\n",
    "    def __init__(self):\n",
    "        self.a=10\n",
    "        self.b=20\n",
    "        \n",
    "        print(\"hello hii kese ho \")\n",
    "\n",
    "obj =Demo()"
   ]
  },
  {
   "cell_type": "code",
   "execution_count": null,
   "id": "2b166712",
   "metadata": {},
   "outputs": [],
   "source": [
    "# class Car:\n",
    "#     def __init__(self,n):\n",
    "#         self.name=n\n",
    "\n",
    "#     def year(self, y):\n",
    "#         self.year=y\n",
    "#     def price(self,p):\n",
    "#         self.price=p\n",
    "#     def disp(self):\n",
    "#         print(self.name)\n",
    "#         print(self.year)\n",
    "#         print(self.price)\n",
    "\n",
    "# x=Car()\n",
    "# # x.Brand(\"audi\")\n",
    "# # x.year(2005)\n",
    "# # x.price(2000000)\n",
    "# # x.disp()"
   ]
  },
  {
   "cell_type": "code",
   "execution_count": null,
   "id": "298133c3",
   "metadata": {},
   "outputs": [],
   "source": [
    "class Car:\n",
    "    def __init__(self,Company,C_name,C_buy):\n",
    "        self.Company=Company\n",
    "        self.C_name = C_name\n",
    "        self.C_buy = C_buy\n",
    "        print(\"Company\",Company)\n",
    "        print(\"Car name\",C_name)\n",
    "        print(\"Car buy\",C_buy)\n",
    "obj = Car(\"Maruti\",\"Dizire\",2000)\n"
   ]
  },
  {
   "cell_type": "markdown",
   "id": "609f56e5",
   "metadata": {},
   "source": [
    "##### Encapsulation in Python "
   ]
  },
  {
   "cell_type": "code",
   "execution_count": 34,
   "id": "e3cce267",
   "metadata": {},
   "outputs": [],
   "source": [
    "class Employes:\n",
    "    def __init__(self, name , salary ):\n",
    "        self.name= name ## public variable\n",
    "        self.__salary=salary # private variable\n",
    "    def show_info(self):\n",
    "        print(f\"name:-{self.name} and salary:-{self.__salary}\")\n",
    "\n",
    "\n",
    "        ###getter method \n",
    "    def get_salary(self):\n",
    "        return self.__salary\n",
    "    \n",
    "    ## setter method\n",
    "    def set_salary(self, amount):\n",
    "        if amount>0:\n",
    "    \n",
    "            self.__salary=amount\n",
    "        else:\n",
    "            print(\"invalid salary\")\n",
    "obj=Employes(name = \"Ritik\", salary = 50000)"
   ]
  },
  {
   "cell_type": "code",
   "execution_count": 35,
   "id": "dfd2fea8",
   "metadata": {},
   "outputs": [
    {
     "name": "stdout",
     "output_type": "stream",
     "text": [
      "name:-Ritik and salary:-50000\n"
     ]
    }
   ],
   "source": [
    "obj.show_info()"
   ]
  },
  {
   "cell_type": "code",
   "execution_count": 36,
   "id": "005fcba4",
   "metadata": {},
   "outputs": [
    {
     "data": {
      "text/plain": [
       "50000"
      ]
     },
     "execution_count": 36,
     "metadata": {},
     "output_type": "execute_result"
    }
   ],
   "source": [
    "obj.get_salary()"
   ]
  },
  {
   "cell_type": "code",
   "execution_count": 37,
   "id": "ef830635",
   "metadata": {},
   "outputs": [],
   "source": [
    "obj.set_salary(60000)"
   ]
  },
  {
   "cell_type": "code",
   "execution_count": 38,
   "id": "68456cde",
   "metadata": {},
   "outputs": [
    {
     "name": "stdout",
     "output_type": "stream",
     "text": [
      "name:-Ritik and salary:-60000\n"
     ]
    }
   ],
   "source": [
    "obj.show_info()"
   ]
  },
  {
   "cell_type": "code",
   "execution_count": 39,
   "id": "d25ddba4",
   "metadata": {},
   "outputs": [
    {
     "name": "stdout",
     "output_type": "stream",
     "text": [
      "student name:-Ritik, and student Age:-22\n"
     ]
    }
   ],
   "source": [
    "class Student:\n",
    "    def __init__(self,name,age):\n",
    "        self.name=name\n",
    "        self.age=age\n",
    "    def display(self):\n",
    "        print(f\"student name:-{self.name}, and student Age:-{self.age}\")\n",
    "\n",
    "Student(\"Ritik\",22).display()"
   ]
  },
  {
   "cell_type": "code",
   "execution_count": 44,
   "id": "7815ab39",
   "metadata": {},
   "outputs": [
    {
     "name": "stdout",
     "output_type": "stream",
     "text": [
      "student name:-Ritik\n"
     ]
    }
   ],
   "source": [
    "class Student:\n",
    "    def __init__(self, name ):\n",
    "        self._name = name \n",
    "    def display(self):\n",
    "        print(f\"student name:-{self._name}\")\n",
    "s1=Student(\"Ritik\")# print(Student(\"Ritik\")._name)\n",
    "\n",
    "s1.display()"
   ]
  },
  {
   "cell_type": "code",
   "execution_count": 53,
   "id": "7d480e56",
   "metadata": {},
   "outputs": [],
   "source": [
    "class Student:\n",
    "    def __init__(self, name ):\n",
    "        self.__name = name ### private variable\n",
    "    def display(self):\n",
    "        print(f\"student name:-{self.__name}\")\n",
    "    def set_name(self):\n",
    "        return self.__name\n",
    "\n",
    "\n",
    "\n",
    "s1=Student(\"Ritik\")    "
   ]
  },
  {
   "cell_type": "code",
   "execution_count": 54,
   "id": "86b9a72e",
   "metadata": {},
   "outputs": [
    {
     "name": "stdout",
     "output_type": "stream",
     "text": [
      "student name:-Ritik\n"
     ]
    }
   ],
   "source": [
    "s1.display()"
   ]
  },
  {
   "cell_type": "code",
   "execution_count": 55,
   "id": "6d7b16c4",
   "metadata": {},
   "outputs": [
    {
     "data": {
      "text/plain": [
       "'Ritik'"
      ]
     },
     "execution_count": 55,
     "metadata": {},
     "output_type": "execute_result"
    }
   ],
   "source": [
    "s1.set_name()"
   ]
  },
  {
   "cell_type": "code",
   "execution_count": null,
   "id": "5bde8f49",
   "metadata": {},
   "outputs": [],
   "source": []
  },
  {
   "cell_type": "code",
   "execution_count": 52,
   "id": "a87967a4",
   "metadata": {},
   "outputs": [],
   "source": [
    "# print()"
   ]
  },
  {
   "cell_type": "code",
   "execution_count": null,
   "id": "ad4ecce7",
   "metadata": {},
   "outputs": [],
   "source": []
  }
 ],
 "metadata": {
  "kernelspec": {
   "display_name": "Python 3",
   "language": "python",
   "name": "python3"
  },
  "language_info": {
   "codemirror_mode": {
    "name": "ipython",
    "version": 3
   },
   "file_extension": ".py",
   "mimetype": "text/x-python",
   "name": "python",
   "nbconvert_exporter": "python",
   "pygments_lexer": "ipython3",
   "version": "3.11.5"
  }
 },
 "nbformat": 4,
 "nbformat_minor": 5
}
