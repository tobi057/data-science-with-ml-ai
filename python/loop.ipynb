{
 "cells": [
  {
   "cell_type": "markdown",
   "id": "e2c32784",
   "metadata": {},
   "source": [
    "### Looping \n",
    "        for loop\n",
    "\n",
    "        while loop "
   ]
  },
  {
   "cell_type": "code",
   "execution_count": 3,
   "id": "d7c3e838",
   "metadata": {},
   "outputs": [
    {
     "name": "stdout",
     "output_type": "stream",
     "text": [
      "1\n",
      "2\n",
      "3\n",
      "4\n",
      "5\n"
     ]
    }
   ],
   "source": [
    "lst = [1,2,3,4,5]\n",
    "for item in lst:\n",
    "    print(item)"
   ]
  },
  {
   "cell_type": "code",
   "execution_count": 4,
   "id": "11410260",
   "metadata": {},
   "outputs": [
    {
     "name": "stdout",
     "output_type": "stream",
     "text": [
      "1\n",
      "2\n",
      "3\n",
      "4\n",
      "5\n"
     ]
    }
   ],
   "source": [
    "tpl = (1,2,3,4,5)\n",
    "for x in tpl:\n",
    "    print(x)"
   ]
  },
  {
   "cell_type": "code",
   "execution_count": 8,
   "id": "8a898de1",
   "metadata": {},
   "outputs": [
    {
     "name": "stdout",
     "output_type": "stream",
     "text": [
      "('name', 'Hemant')\n",
      "('age', 22)\n",
      "('gender', 'male')\n"
     ]
    }
   ],
   "source": [
    "dct  = {\n",
    "    \"name\" : \"Hemant\",\n",
    "    \"age\": 22,\n",
    "    \"gender\" : \"male\"\n",
    "}\n",
    "\n",
    "for item in dct.items():\n",
    "    print(item)"
   ]
  },
  {
   "cell_type": "code",
   "execution_count": 11,
   "id": "10d93f44",
   "metadata": {},
   "outputs": [
    {
     "name": "stdout",
     "output_type": "stream",
     "text": [
      "2\n",
      "4\n",
      "6\n",
      "8\n"
     ]
    }
   ],
   "source": [
    "# range(10)\n",
    "for x in range(2, 10,2):\n",
    "    print(x)"
   ]
  },
  {
   "cell_type": "code",
   "execution_count": 13,
   "id": "c807b8f9",
   "metadata": {},
   "outputs": [
    {
     "name": "stdout",
     "output_type": "stream",
     "text": [
      "hello 1\n",
      "hello 3\n",
      "hello 5\n",
      "hello 7\n",
      "hello 9\n"
     ]
    }
   ],
   "source": [
    "for x in range(1,10,2):\n",
    "    print(\"hello\",x)"
   ]
  },
  {
   "cell_type": "code",
   "execution_count": 14,
   "id": "a1c380fd",
   "metadata": {},
   "outputs": [
    {
     "name": "stdout",
     "output_type": "stream",
     "text": [
      "odd 1\n",
      "even 2\n",
      "odd 3\n",
      "even 4\n",
      "odd 5\n",
      "even 6\n",
      "odd 7\n",
      "even 8\n",
      "odd 9\n"
     ]
    }
   ],
   "source": [
    "# even or odd \n",
    "# range(10)\n",
    "for x in range(1,10):\n",
    "    if x%2 ==0:\n",
    "        print(\"even\",x)\n",
    "    else:\n",
    "        print(\"odd\",x)"
   ]
  },
  {
   "cell_type": "code",
   "execution_count": 15,
   "id": "841234c5",
   "metadata": {},
   "outputs": [
    {
     "name": "stdout",
     "output_type": "stream",
     "text": [
      "pass 78\n",
      "pass 76\n",
      "pass 94\n",
      "fail 33\n",
      "pass 88\n"
     ]
    }
   ],
   "source": [
    "marks_list = [78, 76, 94, 33, 88]\n",
    "for x in marks_list:\n",
    "    if x >=50:\n",
    "        print(\"pass\", x )\n",
    "    else:\n",
    "        print(\"fail\", x)\n",
    "    "
   ]
  },
  {
   "cell_type": "markdown",
   "id": "2cd42091",
   "metadata": {},
   "source": [
    "## Control Statements \n",
    "\n",
    "**break**\n",
    "\n",
    "**continue** \n",
    "\n",
    "**pass** "
   ]
  },
  {
   "cell_type": "code",
   "execution_count": 16,
   "id": "07dc693d",
   "metadata": {},
   "outputs": [
    {
     "name": "stdout",
     "output_type": "stream",
     "text": [
      "1\n",
      "2\n",
      "3\n",
      "4\n"
     ]
    }
   ],
   "source": [
    "for x in range(1,10):\n",
    "    if x ==5:\n",
    "        break \n",
    "    print(x)"
   ]
  },
  {
   "cell_type": "code",
   "execution_count": 17,
   "id": "b550a26f",
   "metadata": {},
   "outputs": [
    {
     "name": "stdout",
     "output_type": "stream",
     "text": [
      "1\n",
      "2\n",
      "3\n",
      "4\n",
      "6\n",
      "7\n",
      "8\n",
      "9\n"
     ]
    }
   ],
   "source": [
    "for x in range(1,10):\n",
    "    if x ==5:\n",
    "        continue \n",
    "    print(x)"
   ]
  },
  {
   "cell_type": "code",
   "execution_count": 21,
   "id": "80f8f021",
   "metadata": {},
   "outputs": [],
   "source": [
    "for x in range(1,10):\n",
    "    pass \n",
    "   \n"
   ]
  },
  {
   "cell_type": "markdown",
   "id": "b1603d5a",
   "metadata": {},
   "source": [
    "#### while "
   ]
  },
  {
   "cell_type": "code",
   "execution_count": 22,
   "id": "cebd6270",
   "metadata": {},
   "outputs": [
    {
     "name": "stdout",
     "output_type": "stream",
     "text": [
      "1\n",
      "2\n",
      "3\n",
      "4\n",
      "5\n"
     ]
    }
   ],
   "source": [
    "a = 1 \n",
    "while a<=5:\n",
    "    print(a)\n",
    "    a = a+1"
   ]
  },
  {
   "cell_type": "code",
   "execution_count": 25,
   "id": "28a08234",
   "metadata": {},
   "outputs": [],
   "source": [
    "# while condition:\n",
    "    # code \n",
    "    # pass "
   ]
  },
  {
   "cell_type": "code",
   "execution_count": 27,
   "id": "df21383f",
   "metadata": {},
   "outputs": [
    {
     "name": "stdout",
     "output_type": "stream",
     "text": [
      "1\n",
      "2\n",
      "3\n"
     ]
    }
   ],
   "source": [
    "a = 1 \n",
    "while a<=5:\n",
    "    print(a)\n",
    "    if a == 3:\n",
    "        break\n",
    "    \n",
    "    a = a+1"
   ]
  },
  {
   "cell_type": "code",
   "execution_count": 28,
   "id": "9f1889f0",
   "metadata": {},
   "outputs": [
    {
     "name": "stdout",
     "output_type": "stream",
     "text": [
      "2\n",
      "4\n",
      "5\n",
      "6\n"
     ]
    }
   ],
   "source": [
    "a = 1\n",
    "while a<=5:\n",
    "    a = a+1\n",
    "    if a == 3:\n",
    "        continue\n",
    "    print(a)"
   ]
  },
  {
   "cell_type": "code",
   "execution_count": null,
   "id": "23d1432b",
   "metadata": {},
   "outputs": [],
   "source": []
  }
 ],
 "metadata": {
  "kernelspec": {
   "display_name": "Python 3",
   "language": "python",
   "name": "python3"
  },
  "language_info": {
   "codemirror_mode": {
    "name": "ipython",
    "version": 3
   },
   "file_extension": ".py",
   "mimetype": "text/x-python",
   "name": "python",
   "nbconvert_exporter": "python",
   "pygments_lexer": "ipython3",
   "version": "3.11.5"
  }
 },
 "nbformat": 4,
 "nbformat_minor": 5
}
