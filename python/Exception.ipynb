{
 "cells": [
  {
   "cell_type": "code",
   "execution_count": null,
   "id": "92be3b8f",
   "metadata": {},
   "outputs": [],
   "source": [
    "### Exception handling in python"
   ]
  },
  {
   "cell_type": "code",
   "execution_count": null,
   "id": "db6dcef1",
   "metadata": {},
   "outputs": [],
   "source": [
    "# try :\n",
    "#     pass\n",
    "# except :\n",
    "#     pass\n",
    "# else :\n",
    "#     pass\n",
    "# finally :\n",
    "#     pass \n"
   ]
  },
  {
   "cell_type": "code",
   "execution_count": null,
   "id": "02ae1234",
   "metadata": {},
   "outputs": [],
   "source": [
    "try :\n",
    "    pass   ## main code \n",
    "except :\n",
    "    pass  ### code to handle exception\n",
    "else :\n",
    "    pass  ### code to execute\n",
    "finally :\n",
    "    pass  ### code to execute"
   ]
  },
  {
   "cell_type": "code",
   "execution_count": null,
   "id": "2631fb30",
   "metadata": {},
   "outputs": [],
   "source": [
    "try:\n",
    "    x = 10/0 # error\n",
    "    print(x)\n",
    "except ZeroDivisionError as e:\n",
    "    print(\"you can not divide by zero!\")"
   ]
  },
  {
   "cell_type": "code",
   "execution_count": null,
   "id": "4472488c",
   "metadata": {},
   "outputs": [],
   "source": [
    "try:\n",
    "    x = 10/2 # error\n",
    "    print(x)\n",
    "except ZeroDivisionError as e:\n",
    "    print(\"you can not divide by zero!\")"
   ]
  },
  {
   "cell_type": "code",
   "execution_count": null,
   "id": "f072cb5e",
   "metadata": {},
   "outputs": [],
   "source": [
    "# ZeroDivisionError\n",
    "# valueerror\n",
    "# typeError\n",
    "# indexError\n",
    "# keyError\n",
    "# nameError\n",
    "# attributeError\n",
    "# syntaxerror\n",
    "# importError\n",
    "# moduleNotFoundError\n",
    "# osError"
   ]
  },
  {
   "cell_type": "code",
   "execution_count": null,
   "id": "640a9048",
   "metadata": {},
   "outputs": [],
   "source": [
    "try:\n",
    "    x = 10/0 # error\n",
    "    print(x)\n",
    "\n",
    "except Exception as e:\n",
    "    print(\"you can not divide by zero!\")\n",
    "    print(e)"
   ]
  },
  {
   "cell_type": "code",
   "execution_count": null,
   "id": "cc3e71b2",
   "metadata": {},
   "outputs": [],
   "source": [
    "try:\n",
    "    num =int(input(\"enter a number : \"))\n",
    "    result=10/num\n",
    "except ValueError:\n",
    "    print(\"invalid input\")\n",
    "except ZeroDivisionError:\n",
    "    print(\"you can not divide by zero!\")\n",
    "else:\n",
    "    print(\"Result is : \",result)\n",
    "finally:\n",
    "    print(\"This is always executed\")"
   ]
  },
  {
   "cell_type": "code",
   "execution_count": null,
   "id": "3aa259e4",
   "metadata": {},
   "outputs": [],
   "source": [
    "lst = [1,2,3,4]\n",
    "try:\n",
    "    print(lst[5])\n",
    "except IndexError:\n",
    "    print(\"Index out of range\")\n",
    "finally:\n",
    "    print(\"This is always executed\")"
   ]
  },
  {
   "cell_type": "code",
   "execution_count": 23,
   "id": "728b0b7b",
   "metadata": {},
   "outputs": [
    {
     "name": "stdout",
     "output_type": "stream",
     "text": [
      "You are eligible to vote\n"
     ]
    }
   ],
   "source": [
    "## Custom Exception\n",
    "class UnderAgeError(Exception):\n",
    "    pass\n",
    "age =int(input(\"Enter your age : \"))\n",
    "try:\n",
    "    if age< 18:\n",
    "        raise UnderAgeError(\"You are not eligible to vote\")\n",
    "    else:\n",
    "        print(\"You are eligible to vote\")\n",
    "\n",
    "\n",
    "except UnderAgeError as e:\n",
    "    print(e)"
   ]
  },
  {
   "cell_type": "code",
   "execution_count": null,
   "id": "3af1559f",
   "metadata": {},
   "outputs": [],
   "source": [
    "try:\n",
    "    num =int(input(\"enter a number : \"))\n",
    "    result=10/num\n",
    "except ValueError:\n",
    "    print(\"invalid input\")\n",
    "except ZeroDivisionError:\n",
    "    print(\"you can not divide by zero!\")\n",
    "else:\n",
    "    print(\"Result is : \",result)\n",
    "finally:\n",
    "    print(\"This is always executed\")"
   ]
  }
 ],
 "metadata": {
  "kernelspec": {
   "display_name": "Python 3",
   "language": "python",
   "name": "python3"
  },
  "language_info": {
   "codemirror_mode": {
    "name": "ipython",
    "version": 3
   },
   "file_extension": ".py",
   "mimetype": "text/x-python",
   "name": "python",
   "nbconvert_exporter": "python",
   "pygments_lexer": "ipython3",
   "version": "3.11.5"
  }
 },
 "nbformat": 4,
 "nbformat_minor": 5
}
