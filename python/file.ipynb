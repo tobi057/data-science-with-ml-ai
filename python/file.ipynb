{
 "cells": [
  {
   "cell_type": "markdown",
   "id": "ee766896",
   "metadata": {},
   "source": [
    "### File Handling \n"
   ]
  },
  {
   "cell_type": "code",
   "execution_count": 1,
   "id": "b7924b12",
   "metadata": {},
   "outputs": [],
   "source": [
    "# r read  \n",
    "# w write \n",
    "# a  write \n",
    "# x create"
   ]
  },
  {
   "cell_type": "code",
   "execution_count": 2,
   "id": "fe1594ae",
   "metadata": {},
   "outputs": [],
   "source": [
    "# open(\"filename\", \"mode \")"
   ]
  },
  {
   "cell_type": "code",
   "execution_count": 3,
   "id": "c91bd8d6",
   "metadata": {},
   "outputs": [
    {
     "data": {
      "text/plain": [
       "'hello hii kese ho '"
      ]
     },
     "execution_count": 3,
     "metadata": {},
     "output_type": "execute_result"
    }
   ],
   "source": [
    "# open(\"file path \", \"mode \")\n",
    "file =open('demo.txt','r')  ### demo.txt is file and r is read mode\n",
    "file.read() ### read the file\n"
   ]
  },
  {
   "cell_type": "code",
   "execution_count": 4,
   "id": "3cd0ab35",
   "metadata": {},
   "outputs": [],
   "source": [
    "file.close()"
   ]
  },
  {
   "cell_type": "code",
   "execution_count": 5,
   "id": "78f40f0a",
   "metadata": {},
   "outputs": [],
   "source": [
    "file =open('demo.txt','r')\n",
    "file.read()\n",
    "file.close() "
   ]
  },
  {
   "cell_type": "code",
   "execution_count": 6,
   "id": "a4f0faf9",
   "metadata": {},
   "outputs": [],
   "source": [
    "file.close()"
   ]
  },
  {
   "cell_type": "code",
   "execution_count": 8,
   "id": "3efdc395",
   "metadata": {},
   "outputs": [],
   "source": [
    "file=open('demo.txt','w')\n",
    "file.write('hello guys data science is my passion')\n",
    "file.close()"
   ]
  },
  {
   "cell_type": "code",
   "execution_count": 9,
   "id": "e3ec1c7c",
   "metadata": {},
   "outputs": [
    {
     "data": {
      "text/plain": [
       "'hello guys data science is my passion'"
      ]
     },
     "execution_count": 9,
     "metadata": {},
     "output_type": "execute_result"
    }
   ],
   "source": [
    "file =open('demo.txt','r')\n",
    "file.read()"
   ]
  },
  {
   "cell_type": "code",
   "execution_count": 10,
   "id": "1c136d7e",
   "metadata": {},
   "outputs": [
    {
     "name": "stdout",
     "output_type": "stream",
     "text": [
      "hello guys data science is my passion\n"
     ]
    }
   ],
   "source": [
    "with open(\"demo.txt\",\"r\") as file:\n",
    "    print(file.read())"
   ]
  },
  {
   "cell_type": "code",
   "execution_count": 12,
   "id": "a6ec8d27",
   "metadata": {},
   "outputs": [],
   "source": [
    "file =open('demo.txt','r')\n",
    "file.readline()\n",
    "file.close()"
   ]
  },
  {
   "cell_type": "code",
   "execution_count": 13,
   "id": "424aa173",
   "metadata": {},
   "outputs": [
    {
     "data": {
      "text/plain": [
       "['hello guys data science is my passion\\n',\n",
       " 'hello guys data science is my passion\\n',\n",
       " 'hello guys data science is my passionhello guys data science is my passionhello guys data science is my passion\\n',\n",
       " 'hello guys data science is my passion\\n',\n",
       " 'hello guys data science is my passion\\n',\n",
       " 'hello guys data science is my passion\\n',\n",
       " 'hello guys data science is my passion\\n',\n",
       " 'hello guys data science is my passion']"
      ]
     },
     "execution_count": 13,
     "metadata": {},
     "output_type": "execute_result"
    }
   ],
   "source": [
    "# file.readlines()\n",
    "open('demo.txt','r').readlines()"
   ]
  },
  {
   "cell_type": "code",
   "execution_count": 14,
   "id": "ca4899d7",
   "metadata": {},
   "outputs": [
    {
     "name": "stdout",
     "output_type": "stream",
     "text": [
      "hello guys data science is my passion\n",
      "hello guys data science is my passion\n",
      "hello guys data science is my passionhello guys data science is my passionhello guys data science is my passion\n",
      "hello guys data science is my passion\n",
      "hello guys data science is my passion\n",
      "hello guys data science is my passion\n",
      "hello guys data science is my passion\n",
      "hello guys data science is my passion\n"
     ]
    }
   ],
   "source": [
    "with open(\"demo.txt\",\"r\") as file:\n",
    "    message =file.read()\n",
    "    print(message)"
   ]
  },
  {
   "cell_type": "code",
   "execution_count": 15,
   "id": "a2981bf1",
   "metadata": {},
   "outputs": [
    {
     "name": "stdout",
     "output_type": "stream",
     "text": [
      "hello guys data science is my passion\n",
      "\n"
     ]
    }
   ],
   "source": [
    "with open(\"demo.txt\",\"r\") as file:\n",
    "    message =file.readline()\n",
    "    print(message)"
   ]
  },
  {
   "cell_type": "code",
   "execution_count": 16,
   "id": "0f1c5aa2",
   "metadata": {},
   "outputs": [
    {
     "name": "stdout",
     "output_type": "stream",
     "text": [
      "['hello guys data science is my passion\\n', 'hello guys data science is my passion\\n', 'hello guys data science is my passionhello guys data science is my passionhello guys data science is my passion\\n', 'hello guys data science is my passion\\n', 'hello guys data science is my passion\\n', 'hello guys data science is my passion\\n', 'hello guys data science is my passion\\n', 'hello guys data science is my passion']\n"
     ]
    }
   ],
   "source": [
    "with open(\"demo.txt\",'r') as file:\n",
    "    message =file.readlines()\n",
    "    print(message)"
   ]
  },
  {
   "cell_type": "code",
   "execution_count": 22,
   "id": "5ae4f91c",
   "metadata": {},
   "outputs": [
    {
     "data": {
      "text/plain": [
       "37"
      ]
     },
     "execution_count": 22,
     "metadata": {},
     "output_type": "execute_result"
    }
   ],
   "source": [
    "# x a \n",
    "file =open(\"Test1.txt\",\"x\")\n",
    "file.write(\"hello guys data science is my passion\")\n",
    "\n",
    "# file.read()"
   ]
  },
  {
   "cell_type": "code",
   "execution_count": 24,
   "id": "c9fa8cb6",
   "metadata": {},
   "outputs": [],
   "source": [
    "file.close()"
   ]
  },
  {
   "cell_type": "code",
   "execution_count": 35,
   "id": "c2514061",
   "metadata": {},
   "outputs": [],
   "source": [
    "# a apend mode\n",
    "file =open(\"demo.txt\", 'a')\n",
    "file.write(\" how are you  \")\n",
    "file.close()"
   ]
  },
  {
   "cell_type": "code",
   "execution_count": 36,
   "id": "82f7db07",
   "metadata": {},
   "outputs": [],
   "source": [
    "# agr esko file milti hai to error show nhi krega \n",
    "# x mode age usko file milti hai to vo error show krega \n",
    "# r mode read krne ke kam hi aate haiu \n",
    "# write mode write krne ke kam aata hai "
   ]
  },
  {
   "cell_type": "code",
   "execution_count": 30,
   "id": "7a70478e",
   "metadata": {},
   "outputs": [
    {
     "data": {
      "text/plain": [
       "'hello guys data science is my passion\\nhello guys data science is my passion\\nhello guys data science is my passionhello guys data science is my passionhello guys data science is my passion\\nhello guys data science is my passion\\nhello guys data science is my passion\\nhello guys data science is my passion\\nhello guys data science is my passion\\nhello guys data science is my passion how are you  '"
      ]
     },
     "execution_count": 30,
     "metadata": {},
     "output_type": "execute_result"
    }
   ],
   "source": [
    "open(\"demo.txt\",\"r\").read()"
   ]
  },
  {
   "cell_type": "code",
   "execution_count": 37,
   "id": "374c582b",
   "metadata": {},
   "outputs": [],
   "source": [
    "file.close()"
   ]
  },
  {
   "cell_type": "code",
   "execution_count": null,
   "id": "7d414b6f",
   "metadata": {},
   "outputs": [],
   "source": []
  },
  {
   "cell_type": "code",
   "execution_count": 38,
   "id": "1db4a24e",
   "metadata": {},
   "outputs": [],
   "source": [
    "# a  apend mode \n",
    "data =input(\"ask me something\")\n",
    "file =open(\"hello.txt\",'a')\n",
    "file.write(data)\n",
    "file.close()"
   ]
  },
  {
   "cell_type": "code",
   "execution_count": null,
   "id": "2bc5bf7a",
   "metadata": {},
   "outputs": [],
   "source": []
  }
 ],
 "metadata": {
  "kernelspec": {
   "display_name": "Python 3",
   "language": "python",
   "name": "python3"
  },
  "language_info": {
   "codemirror_mode": {
    "name": "ipython",
    "version": 3
   },
   "file_extension": ".py",
   "mimetype": "text/x-python",
   "name": "python",
   "nbconvert_exporter": "python",
   "pygments_lexer": "ipython3",
   "version": "3.11.5"
  }
 },
 "nbformat": 4,
 "nbformat_minor": 5
}
