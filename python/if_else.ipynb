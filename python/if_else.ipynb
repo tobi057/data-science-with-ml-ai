{
 "cells": [
  {
   "cell_type": "markdown",
   "id": "354f63ee",
   "metadata": {},
   "source": [
    "#### if else "
   ]
  },
  {
   "cell_type": "code",
   "execution_count": null,
   "id": "e4d39bce",
   "metadata": {},
   "outputs": [],
   "source": [
    "# if:\n",
    "#     pass \n",
    "# else: \n",
    "#     pass \n"
   ]
  },
  {
   "cell_type": "code",
   "execution_count": 10,
   "id": "3c90cb1b",
   "metadata": {},
   "outputs": [
    {
     "name": "stdout",
     "output_type": "stream",
     "text": [
      "positive number\n"
     ]
    }
   ],
   "source": [
    "num = 10 \n",
    "if num >0:\n",
    "    print(\"positive number\")\n",
    "else:\n",
    "    print(\"negative number\")"
   ]
  },
  {
   "cell_type": "code",
   "execution_count": 11,
   "id": "b03e3af9",
   "metadata": {},
   "outputs": [
    {
     "name": "stdout",
     "output_type": "stream",
     "text": [
      "negative number\n"
     ]
    }
   ],
   "source": [
    "num = 10 \n",
    "if num <0:\n",
    "    print(\"positive number\")\n",
    "else:\n",
    "    print(\"negative number\")"
   ]
  },
  {
   "cell_type": "code",
   "execution_count": 13,
   "id": "14da289d",
   "metadata": {},
   "outputs": [
    {
     "name": "stdout",
     "output_type": "stream",
     "text": [
      "even number\n"
     ]
    }
   ],
   "source": [
    "num = 8\n",
    "if num % 2 == 0:\n",
    "    print(\"even number\")\n",
    "else:\n",
    "    print(\"odd number\") "
   ]
  },
  {
   "cell_type": "code",
   "execution_count": 15,
   "id": "d86c8493",
   "metadata": {},
   "outputs": [
    {
     "name": "stdout",
     "output_type": "stream",
     "text": [
      "login failed\n"
     ]
    }
   ],
   "source": [
    "username = \"admin\"\n",
    "password = \"0\"\n",
    "\n",
    "if username==\"admin\" and password==\"1234\":\n",
    "    print(\"login success\")\n",
    "else:\n",
    "    print(\"login failed\")\n"
   ]
  },
  {
   "cell_type": "code",
   "execution_count": null,
   "id": "315ea8a5",
   "metadata": {},
   "outputs": [],
   "source": [
    "# if condition:\n",
    "#     pass\n",
    "# elif condition:\n",
    "#     pass\n",
    "# else:\n",
    "#     pass"
   ]
  },
  {
   "cell_type": "code",
   "execution_count": 19,
   "id": "f5c5807b",
   "metadata": {},
   "outputs": [
    {
     "name": "stdout",
     "output_type": "stream",
     "text": [
      "grade D\n"
     ]
    }
   ],
   "source": [
    "mark = int(input(\"enter your mark\"))\n",
    "if mark>=90:\n",
    "    print(\"grade A\")\n",
    "\n",
    "elif mark>=75:\n",
    "    print(\"grade B\")\n",
    "\n",
    "elif mark>=60:\n",
    "    print(\"grade C\")\n",
    "\n",
    "else:\n",
    "    print(\"grade D\")\n",
    "\n",
    "\n",
    "\n",
    "\n"
   ]
  },
  {
   "cell_type": "code",
   "execution_count": 20,
   "id": "10ce06f0",
   "metadata": {},
   "outputs": [
    {
     "name": "stdout",
     "output_type": "stream",
     "text": [
      "login failed\n"
     ]
    }
   ],
   "source": [
    "username = input(\"enter your name\")\n",
    "password = input(\"enter your password\")\n",
    "\n",
    "if username==\"admin\" and password==\"1234\":\n",
    "    print(\"login success\")\n",
    "else:\n",
    "    print(\"login failed\")\n"
   ]
  },
  {
   "cell_type": "code",
   "execution_count": 23,
   "id": "bb1f966c",
   "metadata": {},
   "outputs": [
    {
     "name": "stdout",
     "output_type": "stream",
     "text": [
      "username is not found please try again\n"
     ]
    }
   ],
   "source": [
    "# nested if else\n",
    "username = input(\"enter your name\")\n",
    "password = input(\"enter your password\")\n",
    "if username==\"admin\":\n",
    "    if password == \"1234\":\n",
    "        print(\"Login successfull Welcome admin\")\n",
    "    else:\n",
    "        print(\"incorrect password\")\n",
    "else:\n",
    "    print(\"username is not found please try again\")\n",
    "\n"
   ]
  },
  {
   "cell_type": "code",
   "execution_count": null,
   "id": "234dd664",
   "metadata": {},
   "outputs": [],
   "source": []
  }
 ],
 "metadata": {
  "kernelspec": {
   "display_name": "Python 3",
   "language": "python",
   "name": "python3"
  },
  "language_info": {
   "codemirror_mode": {
    "name": "ipython",
    "version": 3
   },
   "file_extension": ".py",
   "mimetype": "text/x-python",
   "name": "python",
   "nbconvert_exporter": "python",
   "pygments_lexer": "ipython3",
   "version": "3.11.5"
  }
 },
 "nbformat": 4,
 "nbformat_minor": 5
}
